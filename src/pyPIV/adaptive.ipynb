{
 "metadata": {
  "name": "adaptive"
 },
 "nbformat": 3,
 "nbformat_minor": 0,
 "worksheets": [
  {
   "cells": [
    {
     "cell_type": "code",
     "collapsed": false,
     "input": [
      "from display import parse_and_show, displacement_field\n",
      "import matplotlib.pyplot as plt\n",
      "import subprocess\n",
      "import time\n",
      "import numpy as np\n",
      "import cPickle as pickle\n",
      "import os\n",
      "import sys\n",
      "from config import frame_cols, frame_rows, get_px_ndx, get_image_pair"
     ],
     "language": "python",
     "metadata": {},
     "outputs": [],
     "prompt_number": 13
    },
    {
     "cell_type": "code",
     "collapsed": false,
     "input": [
      "image_dir = '../../data/vort_sim'\n",
      "im_pair = get_image_pair(image_dir)"
     ],
     "language": "python",
     "metadata": {},
     "outputs": [],
     "prompt_number": 44
    },
    {
     "cell_type": "code",
     "collapsed": false,
     "input": [
      "X, Y, U, V = displacement_field(pickle.load(open(os.path.join(image_dir, 'stdout.pck'), 'rb')), image_dir)"
     ],
     "language": "python",
     "metadata": {},
     "outputs": [],
     "prompt_number": 3
    },
    {
     "cell_type": "code",
     "collapsed": false,
     "input": [
      "from scipy import mgrid, signal"
     ],
     "language": "python",
     "metadata": {},
     "outputs": [],
     "prompt_number": 6
    },
    {
     "cell_type": "code",
     "collapsed": false,
     "input": [
      "def gauss_kern(size, sizey=None):\n",
      "    \"\"\" Returns a normalized 2D gauss kernel array for convolutions \"\"\"\n",
      "    size = int(size)\n",
      "    if not sizey:\n",
      "        sizey = size\n",
      "    else:\n",
      "        sizey = int(sizey)\n",
      "    x, y = mgrid[-size:size+1, -sizey:sizey+1]\n",
      "    g = exp(-(x**2/float(size)+y**2/float(sizey)))\n",
      "    return g / g.sum()\n",
      "def blur_image(im, n, ny=None) :\n",
      "    \"\"\" blurs the image by convolving with a gaussian kernel of typical\n",
      "        size n. The optional keyword argument ny allows for a different\n",
      "        size in the y direction.\n",
      "    \"\"\"\n",
      "    g = gauss_kern(n, sizey=ny)\n",
      "    improc = signal.convolve(im,g, mode='valid')\n",
      "    return(improc)"
     ],
     "language": "python",
     "metadata": {},
     "outputs": [],
     "prompt_number": 7
    },
    {
     "cell_type": "code",
     "collapsed": false,
     "input": [
      "Z = np.power(U, 2) + np.power(V, 2)"
     ],
     "language": "python",
     "metadata": {},
     "outputs": [],
     "prompt_number": 11
    },
    {
     "cell_type": "code",
     "collapsed": false,
     "input": [
      "plt.figure()\n",
      "plt.contourf(Z)\n",
      "plt.colorbar()\n",
      "plt.gca().invert_yaxis()\n",
      "plt.savefig('sample_density.pdf')"
     ],
     "language": "python",
     "metadata": {},
     "outputs": [
      {
       "output_type": "display_data",
       "png": "[encoded data removed]"
      }
     ],
     "prompt_number": 143
    },
    {
     "cell_type": "code",
     "collapsed": false,
     "input": [
      "plt.figure()\n",
      "plt.contourf(blur_image(Z, 5))\n",
      "plt.gca().invert_yaxis()\n",
      "plt.colorbar()"
     ],
     "language": "python",
     "metadata": {},
     "outputs": [
      {
       "output_type": "pyout",
       "prompt_number": 144,
       "text": [
        "<matplotlib.colorbar.Colorbar instance at 0x10c20d320>"
       ]
      },
      {
       "output_type": "display_data",
       "png": "[encoded data removed]"
      }
     ],
     "prompt_number": 144
    },
    {
     "cell_type": "code",
     "collapsed": false,
     "input": [
      "P = blur_image(Z, 5)\n",
      "cum_P = np.cumsum(np.reshape(P, None, 1))\n",
      "total = cum_P[-1]"
     ],
     "language": "python",
     "metadata": {},
     "outputs": [],
     "prompt_number": 55
    },
    {
     "cell_type": "code",
     "collapsed": false,
     "input": [
      "P = np.exp(Z)\n",
      "P.size\n",
      "P.shape"
     ],
     "language": "python",
     "metadata": {},
     "outputs": [
      {
       "output_type": "pyout",
       "prompt_number": 97,
       "text": [
        "(56, 76)"
       ]
      }
     ],
     "prompt_number": 97
    },
    {
     "cell_type": "code",
     "collapsed": false,
     "input": [
      "P = np.exp(Z / 6)\n",
      "\n",
      "pixel_Z = np.kron(Z, np.ones((8, 8)))\n",
      "pixel_Z = np.concatenate((pixel_Z, np.zeros((448, 32))), axis=1)\n",
      "pixel_Z = np.concatenate((pixel_Z, np.zeros((32, 640))), axis=0)\n",
      "print pixel_Z.shape\n",
      "pixel_P = np.exp(pixel_Z/6)\n",
      "cum_P = np.cumsum(np.reshape(pixel_P, None, 1))\n",
      "total = cum_P[-1]\n",
      "new = np.random.sample(1000)*total\n",
      "ndx = np.searchsorted(cum_P, new)\n",
      "y = ndx // im_pair.A.size[0]\n",
      "x = ndx % im_pair.A.size[0]\n",
      "ndx[x > 600] = ndx[x > 600] - 40\n",
      "ndx[y > 440] = ndx[y > 440] - 40 * im_pair.A.size[0]\n",
      "y = ndx // im_pair.A.size[0]\n",
      "x = ndx % im_pair.A.size[0]\n",
      "plt.figure()\n",
      "plt.plot(x, y, 'r.')\n",
      "plt.gca().invert_yaxis()\n",
      "plt.savefig('sample_points.pdf')\n",
      "pickle.dump(ndx, open('adaptive_coords.pck', 'wb'))\n",
      "print max(ndx), 640*480"
     ],
     "language": "python",
     "metadata": {},
     "outputs": [
      {
       "output_type": "stream",
       "stream": "stdout",
       "text": [
        "(480, 640)\n",
        "282142"
       ]
      },
      {
       "output_type": "stream",
       "stream": "stdout",
       "text": [
        " 307200\n"
       ]
      },
      {
       "output_type": "display_data",
       "png": "[encoded data removed]"
      }
     ],
     "prompt_number": 145
    },
    {
     "cell_type": "code",
     "collapsed": false,
     "input": [
      "print max(x), max(y)"
     ],
     "language": "python",
     "metadata": {},
     "outputs": [
      {
       "output_type": "stream",
       "stream": "stdout",
       "text": [
        "600 440\n"
       ]
      }
     ],
     "prompt_number": 136
    },
    {
     "cell_type": "code",
     "collapsed": false,
     "input": [
      "a = np.array([1,2,3])\n",
      "a[a > 1]"
     ],
     "language": "python",
     "metadata": {},
     "outputs": [
      {
       "output_type": "pyout",
       "prompt_number": 132,
       "text": [
        "array([2, 3])"
       ]
      }
     ],
     "prompt_number": 132
    },
    {
     "cell_type": "code",
     "collapsed": false,
     "input": [
      "np.searchsorted(cum_P, total)"
     ],
     "language": "python",
     "metadata": {},
     "outputs": [
      {
       "output_type": "pyout",
       "prompt_number": 59,
       "text": [
        "3035"
       ]
      }
     ],
     "prompt_number": 59
    },
    {
     "cell_type": "code",
     "collapsed": false,
     "input": [
      "3035 // frame_cols(im_pair.A)"
     ],
     "language": "python",
     "metadata": {},
     "outputs": [
      {
       "output_type": "pyout",
       "prompt_number": 60,
       "text": [
        "39"
       ]
      }
     ],
     "prompt_number": 60
    },
    {
     "cell_type": "code",
     "collapsed": false,
     "input": [
      "frame_rows(im_pair.A)"
     ],
     "language": "python",
     "metadata": {},
     "outputs": [
      {
       "output_type": "pyout",
       "prompt_number": 61,
       "text": [
        "56"
       ]
      }
     ],
     "prompt_number": 61
    },
    {
     "cell_type": "code",
     "collapsed": false,
     "input": [
      "frame_cols(im_pair.A)"
     ],
     "language": "python",
     "metadata": {},
     "outputs": [
      {
       "output_type": "pyout",
       "prompt_number": 66,
       "text": [
        "76"
       ]
      }
     ],
     "prompt_number": 66
    },
    {
     "cell_type": "code",
     "collapsed": false,
     "input": [
      "X.size"
     ],
     "language": "python",
     "metadata": {},
     "outputs": [
      {
       "output_type": "pyout",
       "prompt_number": 62,
       "text": [
        "76"
       ]
      }
     ],
     "prompt_number": 62
    },
    {
     "cell_type": "code",
     "collapsed": false,
     "input": [
      "Z.size"
     ],
     "language": "python",
     "metadata": {},
     "outputs": [
      {
       "output_type": "pyout",
       "prompt_number": 63,
       "text": [
        "4256"
       ]
      }
     ],
     "prompt_number": 63
    },
    {
     "cell_type": "code",
     "collapsed": false,
     "input": [
      "np.concatenate((np.array([[1],[2],[3]]), np.zeros((3,2))), axis=1)"
     ],
     "language": "python",
     "metadata": {},
     "outputs": [
      {
       "output_type": "pyout",
       "prompt_number": 113,
       "text": [
        "array([[ 1.,  0.,  0.],\n",
        "       [ 2.,  0.,  0.],\n",
        "       [ 3.,  0.,  0.]])"
       ]
      }
     ],
     "prompt_number": 113
    },
    {
     "cell_type": "code",
     "collapsed": false,
     "input": [],
     "language": "python",
     "metadata": {},
     "outputs": []
    }
   ],
   "metadata": {}
  }
 ]
}